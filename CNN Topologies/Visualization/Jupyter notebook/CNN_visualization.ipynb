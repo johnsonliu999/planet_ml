{
 "cells": [
  {
   "cell_type": "code",
   "execution_count": 25,
   "metadata": {},
   "outputs": [],
   "source": [
    "\n",
    "\n",
    "from __future__ import division, print_function, absolute_import\n",
    "\n",
    "import json,random,math,os\n",
    "import numpy as np\n",
    "import tflearn\n",
    "from tflearn.data_utils import shuffle, to_categorical\n",
    "from tflearn.layers.core import input_data, dropout, fully_connected\n",
    "from tflearn.layers.conv import conv_2d, max_pool_2d\n",
    "from tflearn.layers.estimator import regression\n",
    "from tflearn.data_preprocessing import ImagePreprocessing\n",
    "from tflearn.data_augmentation import ImageAugmentation"
   ]
  },
  {
   "cell_type": "markdown",
   "metadata": {},
   "source": [
    "Data Loading below:"
   ]
  },
  {
   "cell_type": "code",
   "execution_count": 26,
   "metadata": {},
   "outputs": [],
   "source": [
    "os.environ['TF_CPP_MIN_LOG_LEVEL'] = '2'\n",
    "\n",
    "#Data Path\n",
    "Xtrain_path = \"../../data/Xtrain\"\n",
    "Xtest_path = \"../../data/Xtest\"\n",
    "ytrain_path = \"../../data/ytrain\"\n",
    "ytest_path = \"../../data/ytest\"\n",
    "\n",
    "#model path\n",
    "model_path = \"E:/NEU/FAI/Project/FAI_Project_Git/CNN Topologies/CNN2/model/cnn2.model\"\n",
    "\n",
    "#load train data - features\n",
    "Xtrain = json.load(open(Xtrain_path))['data']\n",
    "Xtrain = np.array(Xtrain) / 255.\n",
    "Xtrain = Xtrain.reshape([-1, 3, 20, 20]).transpose([0, 2, 3, 1])\n",
    "\n",
    "#load train data - labels\n",
    "ytrain = json.load(open(ytrain_path))['data']\n",
    "ytrain = np.array(ytrain)\n",
    "ytrain = to_categorical(ytrain, 2)\n",
    "\n",
    "#load test data - features\n",
    "Xtest = json.load(open(Xtest_path))['data']\n",
    "Xtest = np.array(Xtest)\n",
    "\n",
    "#load test data - labels\n",
    "ytest = json.load(open(ytest_path))['data']\n",
    "ytest = np.array(ytest)\n",
    "\n",
    "# Real-time data preprocessing\n",
    "img_prep = ImagePreprocessing()\n",
    "img_prep.add_featurewise_zero_center()\n",
    "img_prep.add_featurewise_stdnorm()\n",
    "\n",
    "# Real-time data augmentation\n",
    "img_aug = ImageAugmentation()\n",
    "img_aug.add_random_flip_leftright()\n",
    "img_aug.add_random_rotation(max_angle=25.)"
   ]
  },
  {
   "cell_type": "markdown",
   "metadata": {},
   "source": [
    "Building a CNN"
   ]
  },
  {
   "cell_type": "code",
   "execution_count": 27,
   "metadata": {},
   "outputs": [],
   "source": [
    "# Convolutional network building\n",
    "# Hyper params:\n",
    "_learning_rate = 0.001\n",
    "_dropout = 0.5\n",
    "\n",
    "network = input_data(shape=[None, 20, 20, 3],\n",
    "                     data_preprocessing=img_prep,\n",
    "                     data_augmentation=img_aug)\n",
    "conv1 = conv_2d(network, 32, 3, activation='relu')\n",
    "pool1 = max_pool_2d(conv1, 2)\n",
    "conv2 = conv_2d(pool1, 64, 3, activation='relu')\n",
    "conv3 = conv_2d(conv2, 64, 3, activation='relu')\n",
    "pool2 = max_pool_2d(conv3, 2)\n",
    "fc1 = fully_connected(pool2, 512, activation='relu')\n",
    "dp1 = dropout(fc1, _dropout)\n",
    "fc2 = fully_connected(dp1, 2, activation='softmax')\n",
    "network = regression(fc2, optimizer='adam',\n",
    "                     loss='categorical_crossentropy',\n",
    "                     learning_rate=_learning_rate)\n",
    "model = tflearn.DNN(network, tensorboard_dir='log', tensorboard_verbose=0)"
   ]
  },
  {
   "cell_type": "code",
   "execution_count": 28,
   "metadata": {},
   "outputs": [
    {
     "ename": "IndexError",
     "evalue": "list index out of range",
     "output_type": "error",
     "traceback": [
      "\u001b[1;31m---------------------------------------------------------------------------\u001b[0m",
      "\u001b[1;31mIndexError\u001b[0m                                Traceback (most recent call last)",
      "\u001b[1;32m<ipython-input-28-c5934cdda082>\u001b[0m in \u001b[0;36m<module>\u001b[1;34m()\u001b[0m\n\u001b[0;32m      1\u001b[0m \u001b[1;31m#comment train/load sections accordingly\u001b[0m\u001b[1;33m\u001b[0m\u001b[1;33m\u001b[0m\u001b[0m\n\u001b[0;32m      2\u001b[0m \u001b[1;31m# Train the model\u001b[0m\u001b[1;33m\u001b[0m\u001b[1;33m\u001b[0m\u001b[0m\n\u001b[1;32m----> 3\u001b[1;33m \u001b[0mmodel\u001b[0m\u001b[1;33m.\u001b[0m\u001b[0mfit\u001b[0m\u001b[1;33m(\u001b[0m\u001b[0mXtrain\u001b[0m\u001b[1;33m,\u001b[0m \u001b[0mytrain\u001b[0m\u001b[1;33m,\u001b[0m \u001b[0mn_epoch\u001b[0m\u001b[1;33m=\u001b[0m\u001b[1;36m10\u001b[0m\u001b[1;33m,\u001b[0m \u001b[0mshuffle\u001b[0m\u001b[1;33m=\u001b[0m\u001b[1;32mTrue\u001b[0m\u001b[1;33m,\u001b[0m \u001b[0mvalidation_set\u001b[0m\u001b[1;33m=\u001b[0m\u001b[1;36m.2\u001b[0m\u001b[1;33m,\u001b[0m \u001b[0mshow_metric\u001b[0m\u001b[1;33m=\u001b[0m\u001b[1;32mTrue\u001b[0m\u001b[1;33m,\u001b[0m \u001b[0mbatch_size\u001b[0m\u001b[1;33m=\u001b[0m\u001b[1;36m128\u001b[0m\u001b[1;33m,\u001b[0m \u001b[0mrun_id\u001b[0m\u001b[1;33m=\u001b[0m\u001b[1;34m'planesnet'\u001b[0m\u001b[1;33m)\u001b[0m\u001b[1;33m\u001b[0m\u001b[0m\n\u001b[0m\u001b[0;32m      4\u001b[0m \u001b[1;33m\u001b[0m\u001b[0m\n\u001b[0;32m      5\u001b[0m \u001b[1;31m# Save the model so that we can use the trained model\u001b[0m\u001b[1;33m\u001b[0m\u001b[1;33m\u001b[0m\u001b[0m\n",
      "\u001b[1;32mc:\\users\\srinidhi\\appdata\\local\\programs\\python\\python36\\python64\\lib\\site-packages\\tflearn\\models\\dnn.py\u001b[0m in \u001b[0;36mfit\u001b[1;34m(self, X_inputs, Y_targets, n_epoch, validation_set, show_metric, batch_size, shuffle, snapshot_epoch, snapshot_step, excl_trainops, validation_batch_size, run_id, callbacks)\u001b[0m\n\u001b[0;32m    182\u001b[0m         \u001b[1;31m# TODO: check memory impact for large data and multiple optimizers\u001b[0m\u001b[1;33m\u001b[0m\u001b[1;33m\u001b[0m\u001b[0m\n\u001b[0;32m    183\u001b[0m         feed_dict = feed_dict_builder(X_inputs, Y_targets, self.inputs,\n\u001b[1;32m--> 184\u001b[1;33m                                       self.targets)\n\u001b[0m\u001b[0;32m    185\u001b[0m         \u001b[0mfeed_dicts\u001b[0m \u001b[1;33m=\u001b[0m \u001b[1;33m[\u001b[0m\u001b[0mfeed_dict\u001b[0m \u001b[1;32mfor\u001b[0m \u001b[0mi\u001b[0m \u001b[1;32min\u001b[0m \u001b[0mself\u001b[0m\u001b[1;33m.\u001b[0m\u001b[0mtrain_ops\u001b[0m\u001b[1;33m]\u001b[0m\u001b[1;33m\u001b[0m\u001b[0m\n\u001b[0;32m    186\u001b[0m         \u001b[0mval_feed_dicts\u001b[0m \u001b[1;33m=\u001b[0m \u001b[1;32mNone\u001b[0m\u001b[1;33m\u001b[0m\u001b[0m\n",
      "\u001b[1;32mc:\\users\\srinidhi\\appdata\\local\\programs\\python\\python36\\python64\\lib\\site-packages\\tflearn\\utils.py\u001b[0m in \u001b[0;36mfeed_dict_builder\u001b[1;34m(X, Y, net_inputs, net_targets)\u001b[0m\n\u001b[0;32m    281\u001b[0m                 \u001b[0mX\u001b[0m \u001b[1;33m=\u001b[0m \u001b[1;33m[\u001b[0m\u001b[0mX\u001b[0m\u001b[1;33m]\u001b[0m\u001b[1;33m\u001b[0m\u001b[0m\n\u001b[0;32m    282\u001b[0m             \u001b[1;32mfor\u001b[0m \u001b[0mi\u001b[0m\u001b[1;33m,\u001b[0m \u001b[0mx\u001b[0m \u001b[1;32min\u001b[0m \u001b[0menumerate\u001b[0m\u001b[1;33m(\u001b[0m\u001b[0mX\u001b[0m\u001b[1;33m)\u001b[0m\u001b[1;33m:\u001b[0m\u001b[1;33m\u001b[0m\u001b[0m\n\u001b[1;32m--> 283\u001b[1;33m                 \u001b[0mfeed_dict\u001b[0m\u001b[1;33m[\u001b[0m\u001b[0mnet_inputs\u001b[0m\u001b[1;33m[\u001b[0m\u001b[0mi\u001b[0m\u001b[1;33m]\u001b[0m\u001b[1;33m]\u001b[0m \u001b[1;33m=\u001b[0m \u001b[0mx\u001b[0m\u001b[1;33m\u001b[0m\u001b[0m\n\u001b[0m\u001b[0;32m    284\u001b[0m         \u001b[1;32melse\u001b[0m\u001b[1;33m:\u001b[0m\u001b[1;33m\u001b[0m\u001b[0m\n\u001b[0;32m    285\u001b[0m             \u001b[1;31m# If a dict is provided\u001b[0m\u001b[1;33m\u001b[0m\u001b[1;33m\u001b[0m\u001b[0m\n",
      "\u001b[1;31mIndexError\u001b[0m: list index out of range"
     ]
    }
   ],
   "source": [
    "#comment train/load sections accordingly\n",
    "# Train the model\n",
    "model.fit(Xtrain, ytrain, n_epoch=10, shuffle=True, validation_set=.2, show_metric=True, batch_size=128, run_id='planesnet')\n",
    "\n",
    "# Save the model so that we can use the trained model\n",
    "model.save(model_path)\n",
    "\n",
    "#load the trained model\n",
    "model.load(model_path)\n"
   ]
  },
  {
   "cell_type": "code",
   "execution_count": null,
   "metadata": {},
   "outputs": [],
   "source": [
    "import random\n",
    "from matplotlib import pyplot as plt\n",
    "import matplotlib.gridspec as gridspec\n",
    "\n",
    "m_conv1 = tflearn.DNN(conv1, session=model.session)\n",
    "m_conv2 = tflearn.DNN(conv2, session=model.session)\n",
    "m_conv3 = tflearn.DNN(conv3, session=model.session)\n",
    "\n",
    "for i in range(1):\n",
    "    # Choose a random image and its label\n",
    "    rand_int = random.randrange(0,len(planesnet['data']))\n",
    "    img = np.array(planesnet['data'][rand_int]) / 255.\n",
    "    img = img.reshape((3, 400)).T.reshape((20,20,3))\n",
    "    label = planesnet['labels'][rand_int]\n",
    "    \n",
    "    # Display the image\n",
    "#     plt.imshow(img)\n",
    "#     plt.show()\n",
    "    \n",
    "    # Predict the image class\n",
    "    prediction = model.predict_label([img])[0][0]\n",
    "    \n",
    "#     fig, (ax1, ax2, ax3) = plt.subplots(1,3)\n",
    "    \n",
    "    o_conv1 = m_conv1.predict([img])\n",
    "    for i in range(32):\n",
    "        plt.subplot(8,4,i+1)\n",
    "        plt.imshow(o_conv1[0][:,:,i])\n",
    "    plt.show()\n",
    "    \n",
    "    o_conv2 = m_conv2.predict([img])\n",
    "    for i in range(64):\n",
    "        plt.subplot(8,8,i+1)\n",
    "        plt.imshow(o_conv2[0][:,:,i])\n",
    "    plt.show()\n",
    "    \n",
    "    o_conv3 = m_conv3.predict([img])\n",
    "    for i in range(64):\n",
    "        plt.subplot(8,8,i+1)\n",
    "        plt.imshow(o_conv3[0][:,:,i])\n",
    "    plt.show()\n",
    "    \n",
    "    # Output acutal and predicted class - 0 = 'no-plane', 1 = 'plane'\n",
    "    print('Actual Class: ' + str(label))\n",
    "    print('Predicted Class: ' + str(prediction))"
   ]
  }
 ],
 "metadata": {
  "kernelspec": {
   "display_name": "Python 3",
   "language": "python",
   "name": "python3"
  },
  "language_info": {
   "codemirror_mode": {
    "name": "ipython",
    "version": 3
   },
   "file_extension": ".py",
   "mimetype": "text/x-python",
   "name": "python",
   "nbconvert_exporter": "python",
   "pygments_lexer": "ipython3",
   "version": "3.6.5rc1"
  }
 },
 "nbformat": 4,
 "nbformat_minor": 2
}
